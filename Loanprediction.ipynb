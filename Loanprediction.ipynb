{
  "cells": [
    {
      "cell_type": "code",
      "execution_count": 3,
      "metadata": {
        "colab": {
          "base_uri": "https://localhost:8080/"
        },
        "id": "bGHYVU8S3lXb",
        "outputId": "aed2228a-82b4-412f-91ad-a6fbb9bd09a7"
      },
      "outputs": [
        {
          "name": "stdout",
          "output_type": "stream",
          "text": [
            "Collecting pingouin\n",
            "  Downloading pingouin-0.5.4-py2.py3-none-any.whl (198 kB)\n",
            "     ------------------------------------ 198.9/198.9 kB 389.7 kB/s eta 0:00:00\n",
            "Requirement already satisfied: numpy in c:\\users\\raj vardhan tomar\\appdata\\local\\programs\\python\\python310\\lib\\site-packages (from pingouin) (1.23.1)\n",
            "Requirement already satisfied: scipy in c:\\users\\raj vardhan tomar\\appdata\\local\\programs\\python\\python310\\lib\\site-packages (from pingouin) (1.11.1)\n",
            "Collecting pandas>=1.5 (from pingouin)\n",
            "  Downloading pandas-2.2.0-cp310-cp310-win_amd64.whl (11.6 MB)\n",
            "     -------------------------------------- 11.6/11.6 MB 466.1 kB/s eta 0:00:00\n",
            "Requirement already satisfied: matplotlib in c:\\users\\raj vardhan tomar\\appdata\\local\\programs\\python\\python310\\lib\\site-packages (from pingouin) (3.6.3)\n",
            "Requirement already satisfied: seaborn in c:\\users\\raj vardhan tomar\\appdata\\local\\programs\\python\\python310\\lib\\site-packages (from pingouin) (0.13.0)\n",
            "Collecting statsmodels (from pingouin)\n",
            "  Downloading statsmodels-0.14.1-cp310-cp310-win_amd64.whl (9.8 MB)\n",
            "     ---------------------------------------- 9.8/9.8 MB 803.2 kB/s eta 0:00:00\n",
            "Requirement already satisfied: scikit-learn in c:\\users\\raj vardhan tomar\\appdata\\local\\programs\\python\\python310\\lib\\site-packages (from pingouin) (1.3.0)\n",
            "Collecting pandas-flavor (from pingouin)\n",
            "  Downloading pandas_flavor-0.6.0-py3-none-any.whl (7.2 kB)\n",
            "Requirement already satisfied: tabulate in c:\\users\\raj vardhan tomar\\appdata\\local\\programs\\python\\python310\\lib\\site-packages (from pingouin) (0.9.0)\n",
            "Requirement already satisfied: python-dateutil>=2.8.2 in c:\\users\\raj vardhan tomar\\appdata\\local\\programs\\python\\python310\\lib\\site-packages (from pandas>=1.5->pingouin) (2.8.2)\n",
            "Requirement already satisfied: pytz>=2020.1 in c:\\users\\raj vardhan tomar\\appdata\\local\\programs\\python\\python310\\lib\\site-packages (from pandas>=1.5->pingouin) (2022.1)\n",
            "Collecting tzdata>=2022.7 (from pandas>=1.5->pingouin)\n",
            "  Downloading tzdata-2023.4-py2.py3-none-any.whl (346 kB)\n",
            "     ------------------------------------ 346.6/346.6 kB 936.8 kB/s eta 0:00:00\n",
            "Requirement already satisfied: contourpy>=1.0.1 in c:\\users\\raj vardhan tomar\\appdata\\local\\programs\\python\\python310\\lib\\site-packages (from matplotlib->pingouin) (1.0.7)\n",
            "Requirement already satisfied: cycler>=0.10 in c:\\users\\raj vardhan tomar\\appdata\\local\\programs\\python\\python310\\lib\\site-packages (from matplotlib->pingouin) (0.11.0)\n",
            "Requirement already satisfied: fonttools>=4.22.0 in c:\\users\\raj vardhan tomar\\appdata\\local\\programs\\python\\python310\\lib\\site-packages (from matplotlib->pingouin) (4.38.0)\n",
            "Requirement already satisfied: kiwisolver>=1.0.1 in c:\\users\\raj vardhan tomar\\appdata\\local\\programs\\python\\python310\\lib\\site-packages (from matplotlib->pingouin) (1.4.4)\n",
            "Requirement already satisfied: packaging>=20.0 in c:\\users\\raj vardhan tomar\\appdata\\local\\programs\\python\\python310\\lib\\site-packages (from matplotlib->pingouin) (21.3)\n",
            "Requirement already satisfied: pillow>=6.2.0 in c:\\users\\raj vardhan tomar\\appdata\\local\\programs\\python\\python310\\lib\\site-packages (from matplotlib->pingouin) (9.4.0)\n",
            "Requirement already satisfied: pyparsing>=2.2.1 in c:\\users\\raj vardhan tomar\\appdata\\local\\programs\\python\\python310\\lib\\site-packages (from matplotlib->pingouin) (3.0.9)\n",
            "Collecting xarray (from pandas-flavor->pingouin)\n",
            "  Downloading xarray-2024.1.1-py3-none-any.whl (1.1 MB)\n",
            "     ---------------------------------------- 1.1/1.1 MB 1.1 MB/s eta 0:00:00\n",
            "Requirement already satisfied: joblib>=1.1.1 in c:\\users\\raj vardhan tomar\\appdata\\local\\programs\\python\\python310\\lib\\site-packages (from scikit-learn->pingouin) (1.3.1)\n",
            "Requirement already satisfied: threadpoolctl>=2.0.0 in c:\\users\\raj vardhan tomar\\appdata\\local\\programs\\python\\python310\\lib\\site-packages (from scikit-learn->pingouin) (3.1.0)\n",
            "Collecting patsy>=0.5.4 (from statsmodels->pingouin)\n",
            "  Downloading patsy-0.5.6-py2.py3-none-any.whl (233 kB)\n",
            "     ------------------------------------ 233.9/233.9 kB 844.2 kB/s eta 0:00:00\n",
            "Requirement already satisfied: six in c:\\users\\raj vardhan tomar\\appdata\\local\\programs\\python\\python310\\lib\\site-packages (from patsy>=0.5.4->statsmodels->pingouin) (1.16.0)\n",
            "Collecting packaging>=20.0 (from matplotlib->pingouin)\n",
            "  Downloading packaging-23.2-py3-none-any.whl (53 kB)\n",
            "     -------------------------------------- 53.0/53.0 kB 910.0 kB/s eta 0:00:00\n",
            "Installing collected packages: tzdata, patsy, packaging, pandas, xarray, statsmodels, pandas-flavor, pingouin\n",
            "  Attempting uninstall: packaging\n",
            "    Found existing installation: packaging 21.3\n",
            "    Uninstalling packaging-21.3:\n",
            "      Successfully uninstalled packaging-21.3\n",
            "  Attempting uninstall: pandas\n",
            "    Found existing installation: pandas 1.4.3\n",
            "    Uninstalling pandas-1.4.3:\n",
            "      Successfully uninstalled pandas-1.4.3\n",
            "Note: you may need to restart the kernel to use updated packages.\n"
          ]
        },
        {
          "name": "stderr",
          "output_type": "stream",
          "text": [
            "  WARNING: Retrying (Retry(total=4, connect=None, read=None, redirect=None, status=None)) after connection broken by 'ReadTimeoutError(\"HTTPSConnectionPool(host='files.pythonhosted.org', port=443): Read timed out. (read timeout=15)\")': /packages/35/2e/8ca90e7edc93bc3d3bdf6daa6d5fc5ae4882994171c3db765365227e1d58/pingouin-0.5.4-py2.py3-none-any.whl\n",
            "  WARNING: Retrying (Retry(total=3, connect=None, read=None, redirect=None, status=None)) after connection broken by 'ReadTimeoutError(\"HTTPSConnectionPool(host='files.pythonhosted.org', port=443): Read timed out. (read timeout=15)\")': /packages/35/2e/8ca90e7edc93bc3d3bdf6daa6d5fc5ae4882994171c3db765365227e1d58/pingouin-0.5.4-py2.py3-none-any.whl\n",
            "ERROR: Could not install packages due to an OSError: [WinError 5] Access is denied: 'C:\\\\Users\\\\Raj Vardhan Tomar\\\\AppData\\\\Local\\\\Programs\\\\Python\\\\Python310\\\\Lib\\\\site-packages\\\\~andas\\\\_libs\\\\algos.cp310-win_amd64.pyd'\n",
            "Consider using the `--user` option or check the permissions.\n",
            "\n",
            "\n",
            "[notice] A new release of pip is available: 23.1.2 -> 24.0\n",
            "[notice] To update, run: python.exe -m pip install --upgrade pip\n"
          ]
        }
      ],
      "source": [
        "pip install pingouin"
      ]
    },
    {
      "cell_type": "code",
      "execution_count": 4,
      "metadata": {
        "colab": {
          "base_uri": "https://localhost:8080/"
        },
        "id": "HXvtqOtf3wvp",
        "outputId": "30f50e93-8bcf-4187-807b-c613d8765d65"
      },
      "outputs": [
        {
          "name": "stdout",
          "output_type": "stream",
          "text": [
            "Collecting category_encoders\n",
            "  Downloading category_encoders-2.6.3-py2.py3-none-any.whl (81 kB)\n",
            "     -------------------------------------- 81.9/81.9 kB 572.9 kB/s eta 0:00:00\n",
            "Requirement already satisfied: numpy>=1.14.0 in c:\\users\\raj vardhan tomar\\appdata\\local\\programs\\python\\python310\\lib\\site-packages (from category_encoders) (1.23.1)\n",
            "Requirement already satisfied: scikit-learn>=0.20.0 in c:\\users\\raj vardhan tomar\\appdata\\local\\programs\\python\\python310\\lib\\site-packages (from category_encoders) (1.3.0)\n",
            "Requirement already satisfied: scipy>=1.0.0 in c:\\users\\raj vardhan tomar\\appdata\\local\\programs\\python\\python310\\lib\\site-packages (from category_encoders) (1.11.1)\n",
            "Collecting statsmodels>=0.9.0 (from category_encoders)\n",
            "  Using cached statsmodels-0.14.1-cp310-cp310-win_amd64.whl (9.8 MB)\n",
            "Requirement already satisfied: pandas>=1.0.5 in c:\\users\\raj vardhan tomar\\appdata\\local\\programs\\python\\python310\\lib\\site-packages (from category_encoders) (2.2.0)\n",
            "Requirement already satisfied: patsy>=0.5.1 in c:\\users\\raj vardhan tomar\\appdata\\local\\programs\\python\\python310\\lib\\site-packages (from category_encoders) (0.5.6)\n",
            "Requirement already satisfied: python-dateutil>=2.8.2 in c:\\users\\raj vardhan tomar\\appdata\\local\\programs\\python\\python310\\lib\\site-packages (from pandas>=1.0.5->category_encoders) (2.8.2)\n",
            "Requirement already satisfied: pytz>=2020.1 in c:\\users\\raj vardhan tomar\\appdata\\local\\programs\\python\\python310\\lib\\site-packages (from pandas>=1.0.5->category_encoders) (2022.1)\n",
            "Requirement already satisfied: tzdata>=2022.7 in c:\\users\\raj vardhan tomar\\appdata\\local\\programs\\python\\python310\\lib\\site-packages (from pandas>=1.0.5->category_encoders) (2023.4)\n",
            "Requirement already satisfied: six in c:\\users\\raj vardhan tomar\\appdata\\local\\programs\\python\\python310\\lib\\site-packages (from patsy>=0.5.1->category_encoders) (1.16.0)\n",
            "Requirement already satisfied: joblib>=1.1.1 in c:\\users\\raj vardhan tomar\\appdata\\local\\programs\\python\\python310\\lib\\site-packages (from scikit-learn>=0.20.0->category_encoders) (1.3.1)\n",
            "Requirement already satisfied: threadpoolctl>=2.0.0 in c:\\users\\raj vardhan tomar\\appdata\\local\\programs\\python\\python310\\lib\\site-packages (from scikit-learn>=0.20.0->category_encoders) (3.1.0)\n",
            "Requirement already satisfied: packaging>=21.3 in c:\\users\\raj vardhan tomar\\appdata\\local\\programs\\python\\python310\\lib\\site-packages (from statsmodels>=0.9.0->category_encoders) (23.2)\n",
            "Installing collected packages: statsmodels, category_encoders\n",
            "Successfully installed category_encoders-2.6.3 statsmodels-0.14.1\n",
            "Note: you may need to restart the kernel to use updated packages.\n"
          ]
        },
        {
          "name": "stderr",
          "output_type": "stream",
          "text": [
            "\n",
            "[notice] A new release of pip is available: 23.1.2 -> 24.0\n",
            "[notice] To update, run: python.exe -m pip install --upgrade pip\n"
          ]
        }
      ],
      "source": [
        "pip install category_encoders"
      ]
    },
    {
      "cell_type": "code",
      "execution_count": 2,
      "metadata": {
        "id": "J6-NS178pRNK"
      },
      "outputs": [
        {
          "ename": "ModuleNotFoundError",
          "evalue": "No module named 'pingouin'",
          "output_type": "error",
          "traceback": [
            "\u001b[1;31m---------------------------------------------------------------------------\u001b[0m",
            "\u001b[1;31mModuleNotFoundError\u001b[0m                       Traceback (most recent call last)",
            "Input \u001b[1;32mIn [2]\u001b[0m, in \u001b[0;36m<cell line: 4>\u001b[1;34m()\u001b[0m\n\u001b[0;32m      2\u001b[0m \u001b[38;5;28;01mimport\u001b[39;00m \u001b[38;5;21;01mnumpy\u001b[39;00m \u001b[38;5;28;01mas\u001b[39;00m \u001b[38;5;21;01mnp\u001b[39;00m\n\u001b[0;32m      3\u001b[0m \u001b[38;5;28;01mimport\u001b[39;00m \u001b[38;5;21;01mseaborn\u001b[39;00m \u001b[38;5;28;01mas\u001b[39;00m \u001b[38;5;21;01msns\u001b[39;00m\n\u001b[1;32m----> 4\u001b[0m \u001b[38;5;28;01mimport\u001b[39;00m \u001b[38;5;21;01mpingouin\u001b[39;00m \u001b[38;5;28;01mas\u001b[39;00m \u001b[38;5;21;01mpg\u001b[39;00m\n\u001b[0;32m      5\u001b[0m \u001b[38;5;28;01mimport\u001b[39;00m \u001b[38;5;21;01mscipy\u001b[39;00m\n\u001b[0;32m      6\u001b[0m \u001b[38;5;28;01mfrom\u001b[39;00m \u001b[38;5;21;01mscipy\u001b[39;00m\u001b[38;5;21;01m.\u001b[39;00m\u001b[38;5;21;01mstats\u001b[39;00m \u001b[38;5;28;01mimport\u001b[39;00m chi2\n",
            "\u001b[1;31mModuleNotFoundError\u001b[0m: No module named 'pingouin'"
          ]
        }
      ],
      "source": [
        "import pandas as pd\n",
        "import numpy as np\n",
        "import seaborn as sns\n",
        "import pingouin as pg\n",
        "import scipy\n",
        "from scipy.stats import chi2\n",
        "from scipy.stats import chi2_contingency\n",
        "from scipy.stats import pearsonr, spearmanr\n",
        "from sklearn.preprocessing import StandardScaler\n",
        "from sklearn.preprocessing import MinMaxScaler\n",
        "from sklearn.model_selection import train_test_split\n",
        "from sklearn.model_selection import GridSearchCV\n",
        "from sklearn.ensemble import RandomForestClassifier\n",
        "from sklearn.linear_model import LogisticRegression\n",
        "from sklearn.neighbors import KNeighborsClassifier\n",
        "from sklearn.svm import SVC\n",
        "from sklearn import tree\n",
        "from sklearn.tree import export_graphviz\n",
        "from sklearn.linear_model import Perceptron\n",
        "from sklearn.neural_network import MLPClassifier\n",
        "from sklearn.metrics import  precision_recall_curve, roc_auc_score, confusion_matrix, accuracy_score, recall_score, precision_score, f1_score,auc, roc_curve\n",
        "from IPython.display import Image\n",
        "from category_encoders import BinaryEncoder\n",
        "import pydotplus\n",
        "import matplotlib.pyplot as plt\n",
        "%matplotlib inline\n",
        "color = sns.color_palette()\n",
        "seed = 42"
      ]
    },
    {
      "cell_type": "code",
      "execution_count": null,
      "metadata": {
        "colab": {
          "background_save": true
        },
        "id": "3YIXAZatAntJ"
      },
      "outputs": [],
      "source": [
        "# Checking data balance/proportion\n",
        "loan = data.bad_loan.value_counts().to_frame().rename(columns={\"bad_loan\":\"absolute\"})\n",
        "loan[\"percent\"] = (loan.apply(lambda x: x/x.sum()*100).round(2))\n",
        "display(loan)"
      ]
    },
    {
      "cell_type": "code",
      "execution_count": 1,
      "metadata": {
        "colab": {
          "background_save": true
        },
        "id": "4VPMyQPMy-vT"
      },
      "outputs": [
        {
          "ename": "NameError",
          "evalue": "name 'data' is not defined",
          "output_type": "error",
          "traceback": [
            "\u001b[1;31m---------------------------------------------------------------------------\u001b[0m",
            "\u001b[1;31mNameError\u001b[0m                                 Traceback (most recent call last)",
            "Input \u001b[1;32mIn [1]\u001b[0m, in \u001b[0;36m<cell line: 1>\u001b[1;34m()\u001b[0m\n\u001b[1;32m----> 1\u001b[0m \u001b[43mdata\u001b[49m\u001b[38;5;241m.\u001b[39mdescribe()\u001b[38;5;241m.\u001b[39mround(\u001b[38;5;241m3\u001b[39m)\n",
            "\u001b[1;31mNameError\u001b[0m: name 'data' is not defined"
          ]
        }
      ],
      "source": [
        "data.describe().round(3)"
      ]
    },
    {
      "cell_type": "code",
      "execution_count": null,
      "metadata": {
        "colab": {
          "background_save": true
        },
        "id": "-rct38LlzasU"
      },
      "outputs": [],
      "source": [
        "data.describe(include=[np.object])"
      ]
    },
    {
      "cell_type": "code",
      "execution_count": null,
      "metadata": {
        "colab": {
          "background_save": true
        },
        "id": "AgFDMzxUAqvB"
      },
      "outputs": [],
      "source": [
        "data.bad_loan.value_counts().plot(kind='pie', subplots=True, autopct='%1.2f%%', explode= (0.05, 0.05), startangle=80, legend=True, fontsize=12, figsize=(14,6), textprops={'color':\"black\"})\n",
        "plt.legend([\"0: paid loan\",\"1: not paid loan\"]);"
      ]
    },
    {
      "cell_type": "code",
      "execution_count": null,
      "metadata": {
        "colab": {
          "background_save": true
        },
        "id": "R-aFFzgb7jNF"
      },
      "outputs": [],
      "source": [
        "data.hist(figsize=(10,9), bins=12, ec=\"b\", xlabelsize=8, ylabelsize=8, alpha=0.9, grid=False)\n",
        "plt.tight_layout()\n",
        "plt.show()"
      ]
    },
    {
      "cell_type": "code",
      "execution_count": null,
      "metadata": {
        "colab": {
          "background_save": true
        },
        "id": "OrJFWz_GsV47"
      },
      "outputs": [],
      "source": [
        "# General statistics\n",
        "def stats(x):\n",
        "    print(f\"Variable: {x}\")\n",
        "    print(f\"Type of variable: {data[x].dtype}\")\n",
        "    print(f\"Total observations: {data[x].shape[0]}\")\n",
        "    detect_null_val = data[x].isnull().values.any()\n",
        "    if detect_null_val:\n",
        "        print(f\"Missing values: {data[x].isnull().sum()} ({(data[x].isnull().sum() / data[x].isnull().shape[0] *100).round(2)}%)\")\n",
        "    else:\n",
        "        print(f\"Missing values? {data[x].isnull().values.any()}\")\n",
        "    print(f\"Unique values: {data[x].nunique()}\")\n",
        "    if data[x].dtype != \"O\":\n",
        "        print(f\"Min: {int(data[x].min())}\")\n",
        "        print(f\"25%: {int(data[x].quantile(q=[.25]).iloc[-1])}\")\n",
        "        print(f\"Median: {int(data[x].median())}\")\n",
        "        print(f\"75%: {int(data[x].quantile(q=[.75]).iloc[-1])}\")\n",
        "        print(f\"Max: {int(data[x].max())}\")\n",
        "        print(f\"Mean: {data[x].mean()}\")\n",
        "        print(f\"Std dev: {data[x].std()}\")\n",
        "        print(f\"Variance: {data[x].var()}\")\n",
        "        print(f\"Skewness: {scipy.stats.skew(data[x])}\")\n",
        "        print(f\"Kurtosis: {scipy.stats.kurtosis(data[x])}\")\n",
        "        print(\"\")\n",
        "\n",
        "        # Percentiles 1%, 5%, 95% and 99%\n",
        "        print(\"Percentiles 1%, 5%, 95%, 99%\")\n",
        "        display(data[x].quantile(q=[.01, .05, .95, .99]))\n",
        "        print(\"\")\n",
        "    else:\n",
        "        print(f\"List of unique values: {data[x].unique()}\")\n",
        "\n",
        "# Variable vs. target chart\n",
        "def target(x):\n",
        "    short_0 = data[data.bad_loan == 0].loc[:,x]\n",
        "    short_1 = data[data.bad_loan == 1].loc[:,x]\n",
        "\n",
        "    a = np.array(short_0)\n",
        "    b = np.array(short_1)\n",
        "\n",
        "    np.warnings.filterwarnings('ignore')\n",
        "\n",
        "    plt.hist(a, bins=40, density=True, color=\"g\", alpha = 0.6, label='Not-default', align=\"left\")\n",
        "    plt.hist(b, bins=40, density=True, color=\"r\", alpha = 0.6, label='Default', align=\"right\")\n",
        "    plt.legend(loc='upper right')\n",
        "    plt.title(x, fontsize=10, loc=\"right\")\n",
        "    plt.xlabel('Relative frequency')\n",
        "    plt.ylabel('Absolute frequency')\n",
        "    plt.show()\n",
        "\n",
        "# Boxplot & hist chart\n",
        "def boxhist(x):\n",
        "    variable = data[x]\n",
        "    np.array(variable).mean()\n",
        "    np.median(variable)\n",
        "    f, (ax_box, ax_hist) = plt.subplots(2, sharex=True, gridspec_kw= {\"height_ratios\": (0.5, 2)})\n",
        "    mean=np.array(variable).mean()\n",
        "    median=np.median(variable)\n",
        "    sns.boxplot(variable, ax=ax_box)\n",
        "    ax_box.axvline(mean, color='r', linestyle='--')\n",
        "    ax_box.axvline(median, color='g', linestyle='-')\n",
        "    sns.distplot(variable, ax=ax_hist)\n",
        "    ax_hist.axvline(mean, color='r', linestyle='--')\n",
        "    ax_hist.axvline(median, color='g', linestyle='-')\n",
        "    plt.title(x, fontsize=10, loc=\"right\")\n",
        "    plt.legend({'Mean':mean,'Median':median})\n",
        "    ax_box.set(xlabel='')\n",
        "    plt.show()\n",
        "\n",
        "# Histogram\n",
        "def hist(x):\n",
        "    plt.hist(data[x], bins=25)\n",
        "    plt.title(x, fontsize=10, loc=\"right\")\n",
        "    plt.xlabel('Relative frequency')\n",
        "    plt.ylabel('Absolute frequency')\n",
        "    plt.show()\n",
        "\n",
        "# Pie chart\n",
        "def pie(x):\n",
        "    data[x].value_counts(dropna=False).plot(kind='pie', figsize=(6,5), fontsize=10, autopct='%1.1f%%', startangle=0, legend=True, textprops={'color':\"white\", 'weight':'bold'});\n",
        "\n",
        "    # Number of observations by class\n",
        "    obs = data[x].value_counts(dropna=False)\n",
        "    o = pd.DataFrame(obs)\n",
        "    o.rename(columns={x:\"Freq abs\"}, inplace=True)\n",
        "    o_pc = (data[x].value_counts(normalize=True) * 100).round(2)\n",
        "    obs_pc = pd.DataFrame(o_pc)\n",
        "    obs_pc.rename(columns={x:\"percent %\"}, inplace=True)\n",
        "    obs = pd.concat([o,obs_pc], axis=1)\n",
        "    display(obs)\n",
        "\n",
        "# ​Variables\n",
        "def target(x):\n",
        "    short_0 = data[data.bad_loan == 0].loc[:,x]\n",
        "    short_1 = data[data.bad_loan == 1].loc[:,x]\n",
        "\n",
        "    a = np.array(short_0)\n",
        "    b = np.array(short_1)\n",
        "\n",
        "    np.warnings.filterwarnings('ignore')\n",
        "\n",
        "    plt.hist(a, bins=40, density=True, color=\"g\", alpha = 0.6, label='Not-default', align=\"left\")\n",
        "    plt.hist(b, bins=40, density=True, color=\"r\", alpha = 0.6, label='Default', align=\"right\")\n",
        "    plt.legend(loc='upper right')\n",
        "    plt.title(x, fontsize=10, loc=\"right\")\n",
        "    plt.xlabel('Relative frequency')\n",
        "    plt.ylabel('Absolute frequency')\n",
        "    plt.show()\n",
        "\n",
        "# Boxplot & hist chart\n",
        "def boxhist(x):\n",
        "    variable = data[x]\n",
        "    np.array(variable).mean()\n",
        "    np.median(variable)\n",
        "    f, (ax_box, ax_hist) = plt.subplots(2, sharex=True, gridspec_kw= {\"height_ratios\": (0.5, 2)})\n",
        "    mean=np.array(variable).mean()\n",
        "    median=np.median(variable)\n",
        "    sns.boxplot(variable, ax=ax_box)\n",
        "    ax_box.axvline(mean, color='r', linestyle='--')\n",
        "    ax_box.axvline(median, color='g', linestyle='-')\n",
        "    sns.distplot(variable, ax=ax_hist)\n",
        "    ax_hist.axvline(mean, color='r', linestyle='--')\n",
        "    ax_hist.axvline(median, color='g', linestyle='-')\n",
        "    plt.title(x, fontsize=10, loc=\"right\")\n",
        "    plt.legend({'Mean':mean,'Median':median})\n",
        "    ax_box.set(xlabel='')\n",
        "    plt.show()\n",
        "\n",
        "# Bar chart\n",
        "def bar(x):\n",
        "    ax = data[x].value_counts().plot(kind=\"bar\", figsize=(6,5), fontsize=10, color=sns.color_palette(\"rocket\"), table=False)\n",
        "    for p in ax.patches:\n",
        "        ax.annotate(\"%.2f\" % p.get_height(), (p.get_x() + p.get_width() / 2., p.get_height()), ha='center', va='center', xytext=(0, 5), textcoords='offset points')\n",
        "    plt.xlabel(x, fontsize=10)\n",
        "    plt.xticks(rotation=0, horizontalalignment=\"center\")\n",
        "    plt.ylabel(\"Absolute values\", fontsize=10)\n",
        "    plt.title(x, fontsize=10, loc=\"right\")\n",
        "\n",
        "\n",
        "\n",
        "# Barh chart\n",
        "def barh(x):\n",
        "    data[x].value_counts().plot(kind=\"barh\", figsize=(6,5), fontsize=10, color=sns.color_palette(\"rocket\"), table=False)\n",
        "    plt.xlabel(\"Absolute values\", fontsize=10)\n",
        "    plt.xticks(rotation=0, horizontalalignment=\"center\")\n",
        "    plt.ylabel(x, fontsize=10)\n",
        "    plt.title(x, fontsize=10, loc=\"right\")\n",
        "\n",
        "\n",
        "# Pivot_table_mean\n",
        "def pivot_mean(a, b, c):\n",
        "    type_pivot_mean = data.pivot_table(\n",
        "        columns=a,\n",
        "        index=b,\n",
        "        values=c, aggfunc=np.mean)\n",
        "    display(type_pivot_mean)\n",
        "# Display pivot_table\n",
        "    type_pivot_mean.sort_values(by=[b], ascending=True).plot(kind=\"bar\", title=(b), figsize=(6,4),fontsize = 12);\n",
        "# Pivot_table_sum\n",
        "def pivot_sum(a, b, c):\n",
        "    type_pivot_sum = data.pivot_table(\n",
        "        columns=a,\n",
        "        index=b,\n",
        "        values=c, aggfunc=np.sum)\n",
        "    display(type_pivot_sum)\n",
        "# Display pivot_table\n",
        "    type_pivot_sum.sort_values(by=[b], ascending=True).plot(kind=\"bar\", title=(b), figsize=(6,4),fontsize = 12);\n",
        "\n",
        "\n",
        "# Scatter plot\n",
        "def scatter(x, y):\n",
        "    targets = data[\"bad_loan\"].unique()\n",
        "    for target in targets:\n",
        "            a = data[data[\"bad_loan\"] == target][x]\n",
        "            b = data[data[\"bad_loan\"] == target][y]\n",
        "            plt.scatter(a, b, label=f\"bad loan: {target}\", marker=\"*\")\n",
        "\n",
        "            plt.xlabel(x, fontsize=10)\n",
        "            plt.ylabel(y, fontsize=10)\n",
        "            plt.title(\"abc\", fontsize=10, loc=\"right\")\n",
        "            plt.legend()\n",
        "            plt.show()"
      ]
    },
    {
      "cell_type": "code",
      "execution_count": null,
      "metadata": {
        "colab": {
          "background_save": true
        },
        "id": "AGpW87oLAWBk"
      },
      "outputs": [],
      "source": [
        "pie(\"last_delinq_none\")"
      ]
    },
    {
      "cell_type": "code",
      "execution_count": null,
      "metadata": {
        "colab": {
          "background_save": true
        },
        "id": "hOWJtenJAnWd"
      },
      "outputs": [],
      "source": [
        "pie(\"last_major_derog_none\")"
      ]
    },
    {
      "cell_type": "code",
      "execution_count": null,
      "metadata": {
        "colab": {
          "background_save": true
        },
        "id": "5OGZbxv5BE0n"
      },
      "outputs": [],
      "source": [
        "pie(\"short_emp\")"
      ]
    },
    {
      "cell_type": "code",
      "execution_count": null,
      "metadata": {
        "colab": {
          "background_save": true
        },
        "id": "ppcMleu-CKL-"
      },
      "outputs": [],
      "source": [
        "pie(\"bad_loan\")"
      ]
    },
    {
      "cell_type": "code",
      "execution_count": null,
      "metadata": {
        "colab": {
          "background_save": true
        },
        "id": "nyfoFkmZBGtF"
      },
      "outputs": [],
      "source": [
        "#Checking for null value\n",
        "nulval = data.isnull().sum().to_frame().rename(columns={0:\"absolute\"})\n",
        "nulval[\"percent\"] = (nulval.apply(lambda x: x/x.sum())*100).round(2)\n",
        "nulval"
      ]
    },
    {
      "cell_type": "code",
      "execution_count": null,
      "metadata": {
        "colab": {
          "background_save": true
        },
        "id": "dzi826zx4t5H"
      },
      "outputs": [],
      "source": [
        "data[\"grade\"] = data.grade.map({\"A\":7, \"B\":6, \"C\":5, \"D\":4, \"E\":3, \"F\":2, \"G\":1})"
      ]
    },
    {
      "cell_type": "code",
      "execution_count": null,
      "metadata": {
        "colab": {
          "background_save": true
        },
        "id": "J55qfsNj1Pc4"
      },
      "outputs": [],
      "source": [
        "for col in data.select_dtypes(include=[\"object\"]).columns:\n",
        "    data[col].value_counts().plot(kind=\"bar\", color=sns.color_palette(\"rocket\"))\n",
        "\n",
        "    plt.xlabel(\"Class\", fontsize=10)\n",
        "    plt.xticks(rotation=90, horizontalalignment=\"center\")\n",
        "    plt.ylabel(\"Count\", fontsize=10)\n",
        "    plt.title(col, fontsize=10, loc=\"right\")\n",
        "    plt.show()"
      ]
    },
    {
      "cell_type": "code",
      "execution_count": null,
      "metadata": {
        "colab": {
          "background_save": true
        },
        "id": "dNWr2LUn1Szu"
      },
      "outputs": [],
      "source": [
        "data.term = data.term.str.lower()\n",
        "data.term.value_counts()"
      ]
    },
    {
      "cell_type": "code",
      "execution_count": null,
      "metadata": {
        "colab": {
          "background_save": true
        },
        "id": "LVNzaCKz1Y7c"
      },
      "outputs": [],
      "source": [
        "stats(\"grade\")\n",
        "\n",
        "bar(\"grade\")"
      ]
    },
    {
      "cell_type": "code",
      "execution_count": null,
      "metadata": {
        "colab": {
          "background_save": true
        },
        "id": "szhkiA1n1prq"
      },
      "outputs": [],
      "source": [
        "pivot_sum(\"home_ownership\",\"grade\",\"id\")"
      ]
    },
    {
      "cell_type": "code",
      "execution_count": null,
      "metadata": {
        "colab": {
          "background_save": true
        },
        "id": "GuxkQxty1yOH"
      },
      "outputs": [],
      "source": [
        "target(\"grade\")"
      ]
    },
    {
      "cell_type": "code",
      "execution_count": null,
      "metadata": {
        "colab": {
          "background_save": true
        },
        "id": "IhFSQaPv18-j"
      },
      "outputs": [],
      "source": [
        "boxhist(\"annual_inc\")"
      ]
    },
    {
      "cell_type": "code",
      "execution_count": null,
      "metadata": {
        "colab": {
          "background_save": true
        },
        "id": "cRSmpx1K2E2i"
      },
      "outputs": [],
      "source": [
        "stats(\"annual_inc\")"
      ]
    },
    {
      "cell_type": "code",
      "execution_count": null,
      "metadata": {
        "colab": {
          "background_save": true
        },
        "id": "VG2hSX2x2J8N"
      },
      "outputs": [],
      "source": [
        "target(\"annual_inc\")"
      ]
    },
    {
      "cell_type": "code",
      "execution_count": null,
      "metadata": {
        "colab": {
          "background_save": true
        },
        "id": "g5U-sze12RsG"
      },
      "outputs": [],
      "source": [
        "scatter(\"annual_inc\",\"dti\")"
      ]
    },
    {
      "cell_type": "code",
      "execution_count": null,
      "metadata": {
        "colab": {
          "background_save": true
        },
        "id": "fjjB13Z04wJj"
      },
      "outputs": [],
      "source": [
        "df_term = data.term\n",
        "df_home = data.home_ownership\n",
        "df_purp = data.purpose\n",
        "#term\n",
        "t_ohe = pd.get_dummies(df_term)\n",
        "bin_enc_term = BinaryEncoder()\n",
        "t_bin = bin_enc_term.fit_transform(df_term)\n",
        "#home_ownsership\n",
        "h_ohe = pd.get_dummies(df_home)\n",
        "bin_enc_home = BinaryEncoder()\n",
        "h_bin = bin_enc_home.fit_transform(df_home)\n",
        "#purpose\n",
        "p_ohe = pd.get_dummies(df_purp)\n",
        "bin_enc_purp = BinaryEncoder()\n",
        "p_bin = bin_enc_purp.fit_transform(df_purp)"
      ]
    },
    {
      "cell_type": "code",
      "execution_count": null,
      "metadata": {
        "colab": {
          "background_save": true
        },
        "id": "ujwO9Ch49BKQ"
      },
      "outputs": [],
      "source": [
        "data.info()"
      ]
    },
    {
      "cell_type": "code",
      "execution_count": null,
      "metadata": {
        "colab": {
          "background_save": true
        },
        "id": "e0FneTzK7iRm"
      },
      "outputs": [],
      "source": [
        "data_ca = data.select_dtypes(exclude=[\"int64\",\"float64\"]).copy()\n",
        "data_nu = data.select_dtypes(exclude=[\"object\",\"category\"]).copy()"
      ]
    },
    {
      "cell_type": "code",
      "execution_count": null,
      "metadata": {
        "colab": {
          "background_save": true
        },
        "id": "Nhf0zj317ozR"
      },
      "outputs": [],
      "source": [
        "fig, axs = plt.subplots(ncols=3, nrows=4, figsize=(16, 8))\n",
        "index = 0\n",
        "axs = axs.flatten()\n",
        "for k,v in data_nu.items():\n",
        "    sns.boxplot(y=k, data=data_nu, ax=axs[index], orient=\"h\")\n",
        "    index += 1\n",
        "    plt.tight_layout(pad=0.4, w_pad=0.5, h_pad=5.0)\n",
        "\n",
        "display(data.describe().loc[[\"mean\",\"50%\",\"std\"]].loc[:,[\"annual_inc\",\"revol_util\",\"total_rec_late_fee\"]])\n",
        "\n",
        "print(data.annual_inc.describe())\n",
        "\n",
        "boxhist(\"annual_inc\")"
      ]
    },
    {
      "cell_type": "code",
      "execution_count": null,
      "metadata": {
        "colab": {
          "background_save": true
        },
        "id": "bTk40dq78WlK"
      },
      "outputs": [],
      "source": [
        "# Dealing with the outliers through IQR score method\n",
        "Q1 = data['annual_inc'].quantile(0.25)\n",
        "Q3 = data['annual_inc'].quantile(0.75)\n",
        "IQR = Q3 - Q1\n",
        "data['annual_inc'] = data.annual_inc[~((data.annual_inc < (Q1 - 1.5 * IQR)) |(data.annual_inc > (Q3 + 1.5 * IQR)))]\n",
        "print(data.annual_inc.describe())\n",
        "\n",
        "boxhist(\"annual_inc\")"
      ]
    },
    {
      "cell_type": "code",
      "execution_count": null,
      "metadata": {
        "colab": {
          "background_save": true
        },
        "id": "v4WMSBke-fBC"
      },
      "outputs": [],
      "source": [
        "print(int(data_nu.annual_inc.describe()[0]) - int(data.annual_inc.describe()[0]),\"outliers were removed with this operation.\")\n",
        "\n",
        "\n",
        "print(data.revol_util.describe())\n",
        "boxhist(\"revol_util\")\n"
      ]
    },
    {
      "cell_type": "code",
      "execution_count": null,
      "metadata": {
        "colab": {
          "background_save": true
        },
        "id": "RC3qFdXo-qEJ"
      },
      "outputs": [],
      "source": [
        "# Dealing with the 5010.0 outlier\n",
        "value = data.revol_util.quantile([.99999])\n",
        "p = value.iloc[0]\n",
        "data = data[data[\"revol_util\"] < p]\n",
        "print(data['revol_util'].describe())\n",
        "boxhist(\"revol_util\")"
      ]
    },
    {
      "cell_type": "code",
      "execution_count": null,
      "metadata": {
        "colab": {
          "background_save": true
        },
        "id": "cfEbsvhB-8wO"
      },
      "outputs": [],
      "source": [
        "print(int(data_nu.revol_util.describe()[0]) - int(data.revol_util.describe()[0]),\"outlier was removed with this operation.\")\n",
        "\n",
        "\n",
        "sns.boxplot(x=data['total_rec_late_fee'],data=data)\n",
        "plt.xlabel('total_rec_late_fee', fontsize=10)\n",
        "plt.show()"
      ]
    },
    {
      "cell_type": "code",
      "execution_count": null,
      "metadata": {
        "colab": {
          "background_save": true
        },
        "id": "PBjdNH4r_MI8"
      },
      "outputs": [],
      "source": [
        "value = data.total_rec_late_fee.quantile([.989])\n",
        "p = value.iloc[0]\n",
        "data = data[data[\"total_rec_late_fee\"] < p]"
      ]
    },
    {
      "cell_type": "code",
      "execution_count": null,
      "metadata": {
        "colab": {
          "background_save": true
        },
        "id": "LLzehA-o_R_H"
      },
      "outputs": [],
      "source": [
        "sns.boxplot(x=data['total_rec_late_fee'],data=data)\n",
        "plt.xlabel('total_rec_late_fee', fontsize=10)\n",
        "plt.show()"
      ]
    },
    {
      "cell_type": "code",
      "execution_count": null,
      "metadata": {
        "colab": {
          "background_save": true
        },
        "id": "SFM6ykIF_i9L"
      },
      "outputs": [],
      "source": [
        "for col in data[[\"annual_inc\", \"total_rec_late_fee\", \"revol_util\"]].columns:\n",
        "    sns.boxplot(data[col])\n",
        "    plt.show()"
      ]
    },
    {
      "cell_type": "code",
      "execution_count": null,
      "metadata": {
        "colab": {
          "background_save": true
        },
        "id": "NyUb91Sw_ywe"
      },
      "outputs": [],
      "source": [
        "for column in data.columns:\n",
        "    if data[column].isna().sum() != 0:\n",
        "        missing = data[column].isna().sum()\n",
        "        portion = (missing / data.shape[0]) * 100\n",
        "        print(f\"'{column}': number of missing values '{missing}' ---> '{portion:.3f}%'\")"
      ]
    },
    {
      "cell_type": "code",
      "execution_count": null,
      "metadata": {
        "colab": {
          "background_save": true
        },
        "id": "S4rdBCiI6bZ_"
      },
      "outputs": [],
      "source": [
        "data.annual_inc.value_counts(dropna=False)\n",
        "boxhist(\"annual_inc\")\n",
        "\n",
        "data[\"annual_inc\"] = data.annual_inc.fillna(data.annual_inc.mean())\n",
        "print(f\"Fillna done. Anomalies detected: {data.annual_inc.isnull().values.any()}\")\n",
        "\n",
        "\n",
        "data.home_ownership.value_counts(dropna=False)\n",
        "bar(\"home_ownership\")\n",
        "\n",
        "data[\"home_ownership\"] = data.home_ownership.fillna(data.home_ownership.value_counts().index[0])\n",
        "print(f\"Imputation done. Missing values: {data.home_ownership.isnull().sum()}\")\n",
        "\n",
        "data.dti.value_counts(dropna=False)\n",
        "\n",
        "boxhist(\"dti\")\n",
        "\n",
        "\n",
        "data[\"dti\"] = data.dti.fillna(data.dti.mean())\n",
        "print(f\"Fillna done. Missing values: {data.dti.isnull().values.any()}\")\n",
        "\n",
        "\n",
        "abs_mv = data.last_major_derog_none.value_counts(dropna=False)\n",
        "pc_mv = data.last_major_derog_none.value_counts(dropna=False, normalize=True) * 100\n",
        "pc_mv_df = pd.DataFrame(pc_mv)\n",
        "pc_mv_df.rename(columns={\"last_major_derog_none\":\"Percent %\"}, inplace=True)\n",
        "abs_pc = pd.concat([abs_mv,pc_mv_df], axis=1)\n",
        "abs_pc\n",
        "\n",
        "data.drop(\"last_major_derog_none\", axis=1, inplace=True)\n",
        "print(f\"All missing values are solved in the entire dataset: {data.notnull().values.any()}\")\n",
        "\n",
        "data.drop(\"id\", axis=1, inplace=True)\n",
        "data.shape\n",
        "\n",
        "data_nu = data.select_dtypes(exclude=[\"object\",\"category\"]).copy()\n",
        "\n",
        "Xnum = data_nu.drop([\"bad_loan\"], axis= \"columns\")\n",
        "ynum = data_nu.bad_loan\n",
        "\n",
        "# Identifying the predictive features using the Pearson Correlation p-value\n",
        "pd.DataFrame(\n",
        "    [scipy.stats.pearsonr(Xnum[col],\n",
        "    ynum) for col in Xnum.columns],\n",
        "    columns=[\"Pearson Corr.\", \"p-value\"],\n",
        "    index=Xnum.columns,\n",
        ").round(4)\n",
        "\n",
        "\n",
        "Xcat = data.select_dtypes(exclude=['int64','float64']).copy()\n",
        "\n",
        "\n",
        "Xcat['target'] = data.bad_loan\n",
        "Xcat.dropna(how=\"any\", inplace=True)\n",
        "ycat = Xcat.target\n",
        "Xcat.drop(\"target\", axis=1, inplace=True)\n",
        "\n",
        "\n",
        "for col in Xcat.columns:\n",
        "    table = pd.crosstab(Xcat[col], ycat)\n",
        "    print()\n",
        "    display(table)\n",
        "    _, pval, _, expected_table = scipy.stats.chi2_contingency(table)\n",
        "    print(f\"p-value: {pval:.25f}\")\n",
        "\n",
        "data[\"grade\"] = data.grade.map({\"A\":7, \"B\":6, \"C\":5, \"D\":4, \"E\":3, \"F\":2, \"G\":1})\n",
        "df_term = data.term\n",
        "df_home = data.home_ownership\n",
        "df_purp = data.purpose\n",
        "#term\n",
        "t_ohe = pd.get_dummies(df_term)\n",
        "bin_enc_term = BinaryEncoder()\n",
        "t_bin = bin_enc_term.fit_transform(df_term)\n",
        "#home_ownsership\n",
        "h_ohe = pd.get_dummies(df_home)\n",
        "bin_enc_home = BinaryEncoder()\n",
        "h_bin = bin_enc_home.fit_transform(df_home)\n",
        "#purpose\n",
        "p_ohe = pd.get_dummies(df_purp)\n",
        "bin_enc_purp = BinaryEncoder()\n",
        "p_bin = bin_enc_purp.fit_transform(df_purp)\n",
        "\n",
        "\n",
        "\n",
        "\n",
        "# ROC Curve: Area Under the Curve\n",
        "# def auc_roc_plot(y_test, y_preds):\n",
        "#     fpr, tpr, thresholds = roc_curve(y_test,y_preds)\n",
        "#     roc_auc = auc(fpr, tpr)\n",
        "#     print(roc_auc)\n",
        "#     plt.title('Receiver Operating Characteristic')\n",
        "#     plt.plot(fpr, tpr, 'b', label = 'AUC = %0.2f' % roc_auc)\n",
        "#     plt.legend(loc = 'lower right')\n",
        "#     plt.plot([0, 1], [0, 1]\n",
        "#     plt.xlim([0, 1])\n",
        "#     plt.ylim([0, 1])\n",
        "#     plt.ylabel('True Positive Rate'\n",
        "#     plt.xlabel('False Positive Rate')\n",
        "#     plt.show()\n",
        "\n",
        "\n"
      ]
    },
    {
      "cell_type": "code",
      "execution_count": null,
      "metadata": {
        "colab": {
          "background_save": true
        },
        "id": "B_P8_GYZ5w9v"
      },
      "outputs": [],
      "source": [
        "#OHC\n",
        "data = pd.get_dummies(data, columns=[\"term\",\"home_ownership\"])"
      ]
    },
    {
      "cell_type": "code",
      "execution_count": null,
      "metadata": {
        "colab": {
          "background_save": true
        },
        "id": "Fvj-f7He4Y2P"
      },
      "outputs": [],
      "source": [
        "# Binary Encoding\n",
        "bin_enc_purp = BinaryEncoder()\n",
        "data_bin = bin_enc_purp.fit_transform(data.purpose)"
      ]
    },
    {
      "cell_type": "code",
      "execution_count": null,
      "metadata": {
        "colab": {
          "background_save": true
        },
        "id": "vSmvJZQ-4leF"
      },
      "outputs": [],
      "source": [
        "# Concatenating both datasets\n",
        "df = pd.concat([data,data_bin],axis=1)\n",
        "# Dropping 'purpose'\n",
        "df.drop([\"purpose\"], axis=1, inplace=True)\n",
        "# Lowering upper characters\n",
        "df.columns = [x.lower() for x in df.columns]\n",
        "# printing 5 first rows\n",
        "df.head()"
      ]
    },
    {
      "cell_type": "code",
      "execution_count": null,
      "metadata": {
        "colab": {
          "background_save": true
        },
        "id": "QClep-6C5_4D"
      },
      "outputs": [],
      "source": [
        "# Making a copy of the dataset\n",
        "df_lr = df.copy()"
      ]
    },
    {
      "cell_type": "code",
      "execution_count": null,
      "metadata": {
        "colab": {
          "background_save": true
        },
        "id": "lD4fe_646Duc"
      },
      "outputs": [],
      "source": [
        "# Dividing the dataset in train (80%) and test (20%)\n",
        "train_set_lr, test_set_lr = train_test_split(df_lr, test_size = 0.2, random_state = seed)\n",
        "X_train_lr = train_set_lr.drop(['bad_loan'], axis = 1)\n",
        "y_train_lr = train_set_lr['bad_loan']\n",
        "X_test_lr = test_set_lr.drop(['bad_loan'], axis = 1)\n",
        "y_test_lr = test_set_lr['bad_loan']"
      ]
    },
    {
      "cell_type": "code",
      "execution_count": null,
      "metadata": {
        "colab": {
          "background_save": true
        },
        "id": "Vf2vUbtJ491m"
      },
      "outputs": [],
      "source": [
        "# Normalizing the train and test data\n",
        "scaler_lr = MinMaxScaler()\n",
        "features_names = X_train_lr.columns\n",
        "X_train_lr = scaler_lr.fit_transform(X_train_lr)\n",
        "X_train_lr = pd.DataFrame(X_train_lr, columns = features_names)\n",
        "X_test_lr = scaler_lr.transform(X_test_lr)\n",
        "X_test_lr = pd.DataFrame(X_test_lr, columns = features_names)"
      ]
    },
    {
      "cell_type": "code",
      "execution_count": null,
      "metadata": {
        "colab": {
          "background_save": true
        },
        "id": "HbYN9Vlc6MA4"
      },
      "outputs": [],
      "source": [
        "lr = LogisticRegression(max_iter = 1000, solver = 'lbfgs', random_state = seed, class_weight = 'balanced' )\n",
        "parameters = {'C':[0.001, 0.01, 0.1, 1, 10, 100]}"
      ]
    },
    {
      "cell_type": "code",
      "execution_count": null,
      "metadata": {
        "colab": {
          "background_save": true
        },
        "id": "mIK_baVl_2jA"
      },
      "outputs": [],
      "source": [
        "error_score='raise'"
      ]
    },
    {
      "cell_type": "code",
      "execution_count": null,
      "metadata": {
        "colab": {
          "background_save": true
        },
        "id": "xIBzMjAo6NW6"
      },
      "outputs": [],
      "source": [
        "clf_lr = GridSearchCV(lr, parameters, cv = 5).fit(X_train_lr, y_train_lr)\n",
        "clf_lr\n",
        "clf_lr.best_estimator_"
      ]
    },
    {
      "cell_type": "code",
      "execution_count": null,
      "metadata": {
        "colab": {
          "background_save": true
        },
        "id": "HtRRFHmZEJ-0"
      },
      "outputs": [],
      "source": [
        "y_preds_lr = clf_lr.predict_proba(X_test_lr)[:,1]"
      ]
    },
    {
      "cell_type": "code",
      "execution_count": null,
      "metadata": {
        "colab": {
          "background_save": true
        },
        "id": "dBGj8X8VEv_n"
      },
      "outputs": [],
      "source": [
        "# ROC Curve: Area Under the Curve\n",
        "def auc_roc_plot(y_test, y_preds):\n",
        "    fpr, tpr, thresholds = roc_curve(y_test,y_preds)\n",
        "    roc_auc = auc(fpr, tpr)\n",
        "    print(roc_auc)\n",
        "    plt.title('Receiver Operating Characteristic')\n",
        "    plt.plot(fpr, tpr, 'b', label = 'AUC = %0.2f' % roc_auc)\n",
        "    plt.legend(loc = 'lower right')\n",
        "    plt.plot([0, 1], [0, 1],'r--')\n",
        "    plt.xlim([0, 1])\n",
        "    plt.ylim([0, 1])\n",
        "    plt.ylabel('True Positive Rate')\n",
        "    plt.xlabel('False Positive Rate')\n",
        "    plt.show()\n",
        "\n",
        "auc_roc_plot(y_test_lr, y_preds_lr)"
      ]
    }
  ],
  "metadata": {
    "colab": {
      "provenance": []
    },
    "kernelspec": {
      "display_name": "Python 3",
      "name": "python3"
    },
    "language_info": {
      "codemirror_mode": {
        "name": "ipython",
        "version": 3
      },
      "file_extension": ".py",
      "mimetype": "text/x-python",
      "name": "python",
      "nbconvert_exporter": "python",
      "pygments_lexer": "ipython3",
      "version": "3.10.5"
    }
  },
  "nbformat": 4,
  "nbformat_minor": 0
}
